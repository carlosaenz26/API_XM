{
  "nbformat": 4,
  "nbformat_minor": 0,
  "metadata": {
    "colab": {
      "provenance": [],
      "authorship_tag": "ABX9TyNNy42d5IyRjrkoNiQL1U9o",
      "include_colab_link": true
    },
    "kernelspec": {
      "name": "python3",
      "display_name": "Python 3"
    },
    "language_info": {
      "name": "python"
    }
  },
  "cells": [
    {
      "cell_type": "markdown",
      "metadata": {
        "id": "view-in-github",
        "colab_type": "text"
      },
      "source": [
        "<a href=\"https://colab.research.google.com/github/carlosaenz26/API_XM/blob/master/Spark_XM.ipynb\" target=\"_parent\"><img src=\"https://colab.research.google.com/assets/colab-badge.svg\" alt=\"Open In Colab\"/></a>"
      ]
    },
    {
      "cell_type": "code",
      "execution_count": null,
      "metadata": {
        "id": "GKCYfkTcE-0x"
      },
      "outputs": [],
      "source": [
        "# Install pyspark\n",
        "!pip install pyspark\n",
        "# Import SparkSession\n",
        "from pyspark.sql import SparkSession\n",
        "# Import a Spark function from library\n",
        "from pyspark.sql.functions import col\n",
        "import sys\n",
        "!PYSPARK_HADOOP_VERSION=3 pip install pyspark -v\n",
        "from pyspark import SparkContext\n",
        "from pyspark.streaming import StreamingContext\n",
        "!pip install pydataxm\n",
        "from pydataxm import *                           #Se realiza la importación de las librerias necesarias para ejecutar\n",
        "import datetime as dt                            \n",
        "from pydataxm.pydataxm import ReadDB as apiXM    #Se importa la clase que invoca el servicio"
      ]
    },
    {
      "cell_type": "code",
      "source": [
        "\n",
        "from pyspark.sql import Row"
      ],
      "metadata": {
        "id": "IVMAAd2oTEtK"
      },
      "execution_count": 10,
      "outputs": []
    },
    {
      "cell_type": "code",
      "source": [
        "\n",
        "# Create a Spark Session\n",
        "#spark = SparkSession.builder.master(\"local[*]\").getOrCreate()\n",
        "\n",
        "spark = SparkSession.builder \\\n",
        "    .master(\"local[*]\") \\\n",
        "    .appName(\"Spark_XM\") \\\n",
        "    .config(\"spark.mongodb.input.uri\", \"mongodb://127.0.0.1/test.coll\") \\\n",
        "    .config(\"spark.mongodb.output.uri\", \"mongodb://127.0.0.1/test.coll\") \\\n",
        "    .getOrCreate()\n",
        "# Check Spark Session Information\n",
        "spark\n",
        "ssc = StreamingContext(spark, 1)#streaming \n",
        "\n"
      ],
      "metadata": {
        "id": "al4B7aFTFCdD"
      },
      "execution_count": 6,
      "outputs": []
    },
    {
      "cell_type": "code",
      "source": [
        "objetoAPI = pydataxm.ReadDB()                    #Se almacena el servicio en el nombre objetoAPI"
      ],
      "metadata": {
        "id": "uATCjv0yNbnO"
      },
      "execution_count": 7,
      "outputs": []
    },
    {
      "cell_type": "code",
      "source": [
        "df = apiXM.request_data(pydataxm.ReadDB(),    #Se indica el objeto que contiene el serivicio\n",
        "                        \"PrecBolsNaci\",           #Se indica el nombre de la métrica tal como se llama en el campo metricID\n",
        "                        \"Sistema\",                    #Campo númerico indicando el nivel de desagregación, 1 para valores por Recurso\n",
        "                        dt.date(2019, 1, 1),  #Corresponde a la fecha inicial de la consulta\n",
        "                        dt.date(2023, 1, 8)) #Corresponde a la fecha final de la consulta\n",
        "\n",
        "\n",
        "sparkDF=spark.createDataFrame(df) \n",
        "sparkDF.printSchema()\n",
        "sparkDF.show()"
      ],
      "metadata": {
        "colab": {
          "base_uri": "https://localhost:8080/"
        },
        "id": "i2-hs8SvYdnk",
        "outputId": "fa5fecfd-7785-471a-c181-53d751edd1db"
      },
      "execution_count": 9,
      "outputs": [
        {
          "output_type": "stream",
          "name": "stdout",
          "text": [
            "root\n",
            " |-- Id: string (nullable = true)\n",
            " |-- Values_code: string (nullable = true)\n",
            " |-- Values_Hour01: double (nullable = true)\n",
            " |-- Values_Hour02: double (nullable = true)\n",
            " |-- Values_Hour03: double (nullable = true)\n",
            " |-- Values_Hour04: double (nullable = true)\n",
            " |-- Values_Hour05: double (nullable = true)\n",
            " |-- Values_Hour06: double (nullable = true)\n",
            " |-- Values_Hour07: double (nullable = true)\n",
            " |-- Values_Hour08: double (nullable = true)\n",
            " |-- Values_Hour09: double (nullable = true)\n",
            " |-- Values_Hour10: double (nullable = true)\n",
            " |-- Values_Hour11: double (nullable = true)\n",
            " |-- Values_Hour12: double (nullable = true)\n",
            " |-- Values_Hour13: double (nullable = true)\n",
            " |-- Values_Hour14: double (nullable = true)\n",
            " |-- Values_Hour15: double (nullable = true)\n",
            " |-- Values_Hour16: double (nullable = true)\n",
            " |-- Values_Hour17: double (nullable = true)\n",
            " |-- Values_Hour18: double (nullable = true)\n",
            " |-- Values_Hour19: double (nullable = true)\n",
            " |-- Values_Hour20: double (nullable = true)\n",
            " |-- Values_Hour21: double (nullable = true)\n",
            " |-- Values_Hour22: double (nullable = true)\n",
            " |-- Values_Hour23: double (nullable = true)\n",
            " |-- Values_Hour24: double (nullable = true)\n",
            " |-- Date: timestamp (nullable = true)\n",
            "\n",
            "+-------+-----------+-------------+-------------+-------------+-------------+-------------+-------------+-------------+-------------+-------------+-------------+-------------+-------------+-------------+-------------+-------------+-------------+-------------+-------------+-------------+-------------+-------------+-------------+-------------+-------------+-------------------+\n",
            "|     Id|Values_code|Values_Hour01|Values_Hour02|Values_Hour03|Values_Hour04|Values_Hour05|Values_Hour06|Values_Hour07|Values_Hour08|Values_Hour09|Values_Hour10|Values_Hour11|Values_Hour12|Values_Hour13|Values_Hour14|Values_Hour15|Values_Hour16|Values_Hour17|Values_Hour18|Values_Hour19|Values_Hour20|Values_Hour21|Values_Hour22|Values_Hour23|Values_Hour24|               Date|\n",
            "+-------+-----------+-------------+-------------+-------------+-------------+-------------+-------------+-------------+-------------+-------------+-------------+-------------+-------------+-------------+-------------+-------------+-------------+-------------+-------------+-------------+-------------+-------------+-------------+-------------+-------------+-------------------+\n",
            "|Sistema|    Sistema|     318.4231|     318.4231|     318.4231|     318.4231|     308.9231|     218.9231|     153.9231|     153.9231|     195.1311|     293.9231|     318.4231|     318.4231|     318.4231|     318.4231|     318.4231|     318.4231|     318.4231|     318.4231|     318.4231|     333.9231|     333.9231|     318.4231|     318.4231|     318.4231|2019-01-01 00:00:00|\n",
            "|Sistema|    Sistema|    335.52288|    323.02288|    295.50888|    262.02288|    262.02288|    292.23188|    292.23188|    335.52288|    335.52288|    335.52288|    348.02288|    348.02288|    348.02288|    348.02288|    348.02288|    348.02288|    348.02288|    348.02288|    372.02288|    393.02288|    393.02288|    353.02288|    348.02288|    348.02288|2019-01-02 00:00:00|\n",
            "|Sistema|    Sistema|    329.34796|    329.34796|    329.34796|    329.34796|    329.34796|    329.34796|    329.34796|    341.34796|    376.34796|    381.34796|    381.34796|    390.34796|    401.34796|    401.34796|    401.34796|    386.34796|    381.34796|    381.34796|    390.34796|    451.34796|    401.34796|    381.34796|    381.34796|    381.34796|2019-01-03 00:00:00|\n",
            "|Sistema|    Sistema|    378.15036|    378.15036|    375.15036|    350.15036|    350.15036|    378.15036|    378.15036|    380.88136|    378.15036|    378.15036|    380.88136|    380.88136|    380.88136|    380.88136|    380.88136|    380.88136|    380.88136|    380.88136|    380.88136|    380.88136|    380.88136|    380.88136|    378.15036|    344.05036|2019-01-04 00:00:00|\n",
            "|Sistema|    Sistema|    348.38007|    348.38007|    348.38007|    239.00707|    254.43607|    348.38007|    348.38007|    348.38007|    348.38007|    381.24907|    401.64907|    381.24907|    381.24907|    381.24907|    381.24907|    381.24907|    379.64907|    360.64907|    381.24907|    396.64907|    381.24907|    381.24907|    381.24907|    348.38007|2019-01-05 00:00:00|\n",
            "|Sistema|    Sistema|    260.20309|    260.20309|    260.20309|    260.20309|    260.20309|    260.20309|    257.51609|    260.20309|    260.20309|    260.20309|    360.20309|    369.73409|    369.73409|    369.73409|    369.73409|    369.73409|    360.20309|    260.20309|    369.73409|    369.73409|    369.73409|    369.73409|    369.73409|    260.20309|2019-01-06 00:00:00|\n",
            "|Sistema|    Sistema|    369.71226|    250.18126|    250.18126|    250.18126|    250.18126|    250.18126|    250.18126|    250.18126|    250.18126|    379.18126|    369.71226|    369.71226|    369.71226|    369.71226|    369.71226|    369.71226|    369.71226|    369.71226|    400.18126|    401.18126|    400.18126|    369.71226|    369.71226|    369.71226|2019-01-07 00:00:00|\n",
            "|Sistema|    Sistema|     363.8843|     310.1533|     310.1533|     310.1533|     310.1533|     310.1533|     360.1533|     363.8843|     363.8843|     369.5533|     369.5533|     380.1533|     380.1533|     380.1533|     380.1533|     380.1533|     369.5533|     363.8843|     380.1533|     380.1533|     380.1533|     369.5533|     363.8843|     363.8843|2019-01-08 00:00:00|\n",
            "|Sistema|    Sistema|    257.49997|    249.18697|    249.18697|    249.18697|    249.18697|    257.49997|    280.18697|    280.18697|    280.18697|    360.91797|    360.91797|    364.18697|    364.18697|    364.18697|    364.18697|    364.18697|    360.91797|    360.91797|    380.08697|    380.08697|    380.08697|    360.91797|    360.91797|    280.18697|2019-01-09 00:00:00|\n",
            "|Sistema|    Sistema|    320.54323|    320.54323|    320.54323|    320.54323|    257.74223|    320.54323|    320.54323|    320.54323|    367.42923|    377.42923|    320.54323|    320.54323|    320.54323|    320.54323|    320.54323|    320.54323|    320.54323|    320.54323|    367.42923|    367.42923|    378.42923|    320.54323|    367.42923|    320.54323|2019-01-10 00:00:00|\n",
            "|Sistema|    Sistema|    309.72896|    309.72896|    309.72896|    309.72896|    309.72896|    350.12896|    350.12896|    350.34296|    350.34296|    350.34296|    350.34296|    350.34296|    350.34296|    350.34296|    350.34296|    366.22896|    350.34296|    350.34296|    367.22896|    367.22896|    366.22896|    350.34296|    350.12896|    309.72896|2019-01-11 00:00:00|\n",
            "|Sistema|    Sistema|    250.36797|    250.36797|    250.36797|    250.36797|    250.36797|    255.36797|    255.36797|    310.36797|    311.86797|    311.86797|    311.86797|    311.86797|    311.86797|    311.86797|    311.86797|    311.86797|    311.86797|    311.86797|    311.86797|    320.66797|    311.86797|    311.86797|    310.36797|    256.74697|2019-01-12 00:00:00|\n",
            "|Sistema|    Sistema|    245.07454|    200.30554|    200.30554|    200.30554|    200.30554|    200.30554|    227.07454|    200.30554|    200.30554|    245.07454|    245.07454|    301.06454|    312.17454|    312.17454|    301.06454|    249.51454|    245.07454|    245.07454|    312.17454|    320.97454|    312.17454|    312.17454|    312.17454|    245.07454|2019-01-13 00:00:00|\n",
            "|Sistema|    Sistema|    230.71968|    185.71968|    185.71968|    185.71968|    185.71968|    230.71968|    261.16668|    261.16668|    267.71968|    295.70968|    300.71968|    300.81968|    300.81968|    300.81968|    300.81968|    300.81968|    300.81968|    300.81968|    300.81968|    311.71968|    300.81968|    300.81968|    267.71968|    261.16668|2019-01-14 00:00:00|\n",
            "|Sistema|    Sistema|    250.61305|    250.91305|    185.61305|    185.61305|    192.22505|    250.61305|    250.61305|    250.91305|    250.91305|    255.99205|    271.26805|    270.65605|    270.65605|    270.65605|    271.26805|    271.26805|    270.65605|    250.91305|    270.65605|    271.26805|    270.65605|    270.65605|    250.91305|    250.91305|2019-01-15 00:00:00|\n",
            "|Sistema|    Sistema|     150.9497|     150.9497|     150.9497|     150.9497|     150.9497|     150.9497|     167.6357|     240.9497|     248.1807|     248.1807|     248.1807|     248.1807|     248.1807|     248.1807|     250.8497|     250.8497|     248.1807|     248.1807|     248.1807|     248.1807|     248.1807|     248.1807|     250.8497|     239.9497|2019-01-16 00:00:00|\n",
            "|Sistema|    Sistema|    236.02238|    231.02238|    231.02238|    231.02238|    231.02238|    249.02238|    249.02238|    236.02238|    249.02238|    249.02238|    249.02238|    249.02238|    249.02238|    249.02238|    249.02238|    249.02238|    249.02238|    249.02238|    249.02238|    249.02238|    249.02238|    249.02238|    249.02238|    231.02238|2019-01-17 00:00:00|\n",
            "|Sistema|    Sistema|    151.90294|    151.90294|    151.90294|    151.90294|    200.87494|    221.90294|    221.90294|    231.01694|    235.90294|    235.90294|    235.90294|    235.90294|    235.90294|    235.90294|    235.90294|    235.90294|    235.90294|    231.01694|    235.90294|    235.90294|    235.90294|    235.90294|    231.01694|    221.90294|2019-01-18 00:00:00|\n",
            "|Sistema|    Sistema|    152.36153|    152.36153|    152.36153|    152.36153|    152.36153|    192.36153|    192.36153|    192.36153|    192.36153|    192.36153|    193.36153|    226.47553|    226.47553|    193.36153|    192.36153|    192.36153|    192.36153|    192.36153|    226.47553|    226.47553|    226.47553|    192.36153|    192.36153|    192.36153|2019-01-19 00:00:00|\n",
            "|Sistema|    Sistema|    165.08742|    151.06742|    150.08742|    150.08742|    150.08742|    165.08742|    151.06742|    165.08742|    165.08742|    165.08742|    165.08742|    165.08742|    165.08742|    165.08742|    165.08742|    165.08742|    165.08742|    165.08742|    200.08742|    205.08742|    205.08742|    200.08742|    190.08742|    165.08742|2019-01-20 00:00:00|\n",
            "+-------+-----------+-------------+-------------+-------------+-------------+-------------+-------------+-------------+-------------+-------------+-------------+-------------+-------------+-------------+-------------+-------------+-------------+-------------+-------------+-------------+-------------+-------------+-------------+-------------+-------------+-------------------+\n",
            "only showing top 20 rows\n",
            "\n"
          ]
        }
      ]
    },
    {
      "cell_type": "code",
      "source": [
        "sparkDF.write.format(\"mongo\").mode(\"append\").save()\n"
      ],
      "metadata": {
        "id": "OE9xbJTPQ6oD"
      },
      "execution_count": null,
      "outputs": []
    }
  ]
}